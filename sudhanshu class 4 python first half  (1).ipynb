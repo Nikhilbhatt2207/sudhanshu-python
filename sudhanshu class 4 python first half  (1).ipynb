{
 "cells": [
  {
   "cell_type": "code",
   "execution_count": 70,
   "id": "b944fc7b-2140-4f3c-839f-6ee0a8eca287",
   "metadata": {},
   "outputs": [],
   "source": [
    "s=\"ineuron\""
   ]
  },
  {
   "cell_type": "code",
   "execution_count": 72,
   "id": "27bfd8cd-5c90-4a65-a270-ab6892f610f5",
   "metadata": {},
   "outputs": [
    {
     "data": {
      "text/plain": [
       "str"
      ]
     },
     "execution_count": 72,
     "metadata": {},
     "output_type": "execute_result"
    }
   ],
   "source": [
    "type(s)"
   ]
  },
  {
   "cell_type": "code",
   "execution_count": 74,
   "id": "c1c7aef8-70f8-4e63-927d-ea99a02d52b2",
   "metadata": {},
   "outputs": [
    {
     "data": {
      "text/plain": [
       "'i'"
      ]
     },
     "execution_count": 74,
     "metadata": {},
     "output_type": "execute_result"
    }
   ],
   "source": [
    "s[0]"
   ]
  },
  {
   "cell_type": "code",
   "execution_count": 76,
   "id": "f82ada2a-f345-4437-9b3d-0372e8d3733f",
   "metadata": {},
   "outputs": [
    {
     "data": {
      "text/plain": [
       "'o'"
      ]
     },
     "execution_count": 76,
     "metadata": {},
     "output_type": "execute_result"
    }
   ],
   "source": [
    "s[5]"
   ]
  },
  {
   "cell_type": "code",
   "execution_count": 78,
   "id": "a0369e46-a1ce-4b18-9523-09dd2b6b0449",
   "metadata": {},
   "outputs": [
    {
     "data": {
      "text/plain": [
       "'n'"
      ]
     },
     "execution_count": 78,
     "metadata": {},
     "output_type": "execute_result"
    }
   ],
   "source": [
    "s[-1]"
   ]
  },
  {
   "cell_type": "code",
   "execution_count": 80,
   "id": "55e716fe-32d3-4219-8eb3-496a3536c130",
   "metadata": {},
   "outputs": [
    {
     "data": {
      "text/plain": [
       "'n'"
      ]
     },
     "execution_count": 80,
     "metadata": {},
     "output_type": "execute_result"
    }
   ],
   "source": [
    "s[1]"
   ]
  },
  {
   "cell_type": "code",
   "execution_count": 82,
   "id": "a7ba7ff8-6729-479c-9fbb-1009cc1a4d3e",
   "metadata": {},
   "outputs": [
    {
     "data": {
      "text/plain": [
       "'e'"
      ]
     },
     "execution_count": 82,
     "metadata": {},
     "output_type": "execute_result"
    }
   ],
   "source": [
    "s[2]"
   ]
  },
  {
   "cell_type": "code",
   "execution_count": 84,
   "id": "73f88fa5-0884-4b74-baf4-4f5c9f62b16c",
   "metadata": {},
   "outputs": [
    {
     "data": {
      "text/plain": [
       "'r'"
      ]
     },
     "execution_count": 84,
     "metadata": {},
     "output_type": "execute_result"
    }
   ],
   "source": [
    "s[-3]"
   ]
  },
  {
   "cell_type": "code",
   "execution_count": 86,
   "id": "12578dd8-ba4a-4a1e-b883-a584b91d7e25",
   "metadata": {},
   "outputs": [
    {
     "data": {
      "text/plain": [
       "'n'"
      ]
     },
     "execution_count": 86,
     "metadata": {},
     "output_type": "execute_result"
    }
   ],
   "source": [
    "s[6]"
   ]
  },
  {
   "cell_type": "code",
   "execution_count": 88,
   "id": "6a802dbc-8268-482d-9113-0db7c0a182a9",
   "metadata": {},
   "outputs": [],
   "source": [
    "s1='sudh'"
   ]
  },
  {
   "cell_type": "code",
   "execution_count": 90,
   "id": "79325780-92a5-4bc8-9ace-5f582fa72fba",
   "metadata": {},
   "outputs": [
    {
     "data": {
      "text/plain": [
       "'u'"
      ]
     },
     "execution_count": 90,
     "metadata": {},
     "output_type": "execute_result"
    }
   ],
   "source": [
    "s1[1]"
   ]
  },
  {
   "cell_type": "code",
   "execution_count": 92,
   "id": "8fd1d80f-2c88-4e1e-8ede-f5b4f0fe6f60",
   "metadata": {},
   "outputs": [
    {
     "data": {
      "text/plain": [
       "'s'"
      ]
     },
     "execution_count": 92,
     "metadata": {},
     "output_type": "execute_result"
    }
   ],
   "source": [
    "s1[0]"
   ]
  },
  {
   "cell_type": "code",
   "execution_count": 94,
   "id": "f743e169-169a-4a39-9b26-715c0076c35b",
   "metadata": {},
   "outputs": [
    {
     "data": {
      "text/plain": [
       "'h'"
      ]
     },
     "execution_count": 94,
     "metadata": {},
     "output_type": "execute_result"
    }
   ],
   "source": [
    "s1[-1]"
   ]
  },
  {
   "cell_type": "code",
   "execution_count": 96,
   "id": "54cc3775-e60e-4b70-8036-595e5ae6b68c",
   "metadata": {},
   "outputs": [
    {
     "ename": "SyntaxError",
     "evalue": "unterminated string literal (detected at line 1) (1616320507.py, line 1)",
     "output_type": "error",
     "traceback": [
      "\u001b[1;36m  Cell \u001b[1;32mIn[96], line 1\u001b[1;36m\u001b[0m\n\u001b[1;33m    'this is my first programming class's'\u001b[0m\n\u001b[1;37m                                         ^\u001b[0m\n\u001b[1;31mSyntaxError\u001b[0m\u001b[1;31m:\u001b[0m unterminated string literal (detected at line 1)\n"
     ]
    }
   ],
   "source": [
    "'this is my first programming class's'"
   ]
  },
  {
   "cell_type": "code",
   "execution_count": 98,
   "id": "73042f40-af5f-4a7e-bee0-a58a60eb19cd",
   "metadata": {},
   "outputs": [],
   "source": [
    "#here we are getting error becaus system is confused that there are three ' available so where the string is starting and ending so we get an error here so its always suggested to use \" instead of ' and whe we get error like we can solve it by using \" fronstart to end of the string as below: "
   ]
  },
  {
   "cell_type": "code",
   "execution_count": 100,
   "id": "62a5c600-9d12-4991-aa63-dbc6f7abe36f",
   "metadata": {},
   "outputs": [
    {
     "data": {
      "text/plain": [
       "\"this is my first programming class's\""
      ]
     },
     "execution_count": 100,
     "metadata": {},
     "output_type": "execute_result"
    }
   ],
   "source": [
    "\"this is my first programming class's\""
   ]
  },
  {
   "cell_type": "code",
   "execution_count": 102,
   "id": "5888fd87-a76a-401f-959c-7130381363ec",
   "metadata": {},
   "outputs": [],
   "source": [
    "s2=\"this is my first programming class's\""
   ]
  },
  {
   "cell_type": "code",
   "execution_count": 104,
   "id": "3b12a56d-f39e-4f42-9691-cc57534f5b10",
   "metadata": {},
   "outputs": [
    {
     "data": {
      "text/plain": [
       "\"this is my first programming class's\""
      ]
     },
     "execution_count": 104,
     "metadata": {},
     "output_type": "execute_result"
    }
   ],
   "source": [
    "s2"
   ]
  },
  {
   "cell_type": "code",
   "execution_count": 106,
   "id": "49ef8524-a47c-4cd2-a42e-4750520bcb55",
   "metadata": {},
   "outputs": [
    {
     "data": {
      "text/plain": [
       "'m'"
      ]
     },
     "execution_count": 106,
     "metadata": {},
     "output_type": "execute_result"
    }
   ],
   "source": [
    "s2[8]"
   ]
  },
  {
   "cell_type": "code",
   "execution_count": 108,
   "id": "330caa54-3955-44e3-86bd-5538f37e1f9c",
   "metadata": {},
   "outputs": [
    {
     "data": {
      "text/plain": [
       "' '"
      ]
     },
     "execution_count": 108,
     "metadata": {},
     "output_type": "execute_result"
    }
   ],
   "source": [
    "s2[4]"
   ]
  },
  {
   "cell_type": "code",
   "execution_count": 110,
   "id": "e7fc92cf-fe01-4d64-941a-179f711d4bfe",
   "metadata": {},
   "outputs": [],
   "source": [
    "# from above one can say that even space is counted as index and it can be extraced from variable such as string. "
   ]
  },
  {
   "cell_type": "code",
   "execution_count": 112,
   "id": "7cc29016-d157-4e85-ad98-ca02ceebf1d9",
   "metadata": {},
   "outputs": [],
   "source": [
    "# now, it is fine to extract single indexes but what if we want to extract the data in range wise instead of single index "
   ]
  },
  {
   "cell_type": "code",
   "execution_count": 114,
   "id": "00d07708-f2bf-42ee-a35f-ac6494f55734",
   "metadata": {},
   "outputs": [
    {
     "data": {
      "text/plain": [
       "\"this is my first programming class's\""
      ]
     },
     "execution_count": 114,
     "metadata": {},
     "output_type": "execute_result"
    }
   ],
   "source": [
    "s2"
   ]
  },
  {
   "cell_type": "code",
   "execution_count": 116,
   "id": "0b94ce0f-8972-4544-a577-92af4fec69f4",
   "metadata": {},
   "outputs": [],
   "source": [
    "# now i want to extract the data from index number 1 to index number 5 so, "
   ]
  },
  {
   "cell_type": "code",
   "execution_count": 118,
   "id": "94b72a8d-ce18-41a4-882a-42894dfec10b",
   "metadata": {},
   "outputs": [
    {
     "data": {
      "text/plain": [
       "'his '"
      ]
     },
     "execution_count": 118,
     "metadata": {},
     "output_type": "execute_result"
    }
   ],
   "source": [
    "s2[1:5]"
   ]
  },
  {
   "cell_type": "code",
   "execution_count": 120,
   "id": "ec29430a-79ea-44ca-a715-246319f15746",
   "metadata": {},
   "outputs": [],
   "source": [
    "#in above case we have extrated the data from 1 to 5 indexes but we should note the behaviour as here index starts from 1 that is h and goes till 5 but it excludes index number 5 that is it alwasys excludes upper bound and gives out put of the idex just before upper bound in the above case it gives out for index number 4 which is space"
   ]
  },
  {
   "cell_type": "code",
   "execution_count": 122,
   "id": "6348fe79-4fd7-42b0-bf40-9d30173d5f17",
   "metadata": {},
   "outputs": [
    {
     "data": {
      "text/plain": [
       "'s my first programming c'"
      ]
     },
     "execution_count": 122,
     "metadata": {},
     "output_type": "execute_result"
    }
   ],
   "source": [
    "s2[6:30]"
   ]
  },
  {
   "cell_type": "code",
   "execution_count": 124,
   "id": "e2aeab16-8bf1-4913-bd91-7bcd5dd681d3",
   "metadata": {},
   "outputs": [],
   "source": [
    "# now the range extraction is fine but in the same range extraction i am not looking for all the data but alternative index data that is suppose the range is 0 to 10 so i dont want all inder from 0 1 2 3 til 100 but i want 0 then 2 then 4.. till ten so how we do that? "
   ]
  },
  {
   "cell_type": "code",
   "execution_count": 126,
   "id": "a0fca1ea-a493-4fe5-9827-5e58c53bf835",
   "metadata": {},
   "outputs": [
    {
     "data": {
      "text/plain": [
       "\"this is my first programming class's\""
      ]
     },
     "execution_count": 126,
     "metadata": {},
     "output_type": "execute_result"
    }
   ],
   "source": [
    "s2"
   ]
  },
  {
   "cell_type": "code",
   "execution_count": 128,
   "id": "24f462e1-dae5-4261-ba90-fc81c6db0285",
   "metadata": {},
   "outputs": [
    {
     "data": {
      "text/plain": [
       "'s my first programming c'"
      ]
     },
     "execution_count": 128,
     "metadata": {},
     "output_type": "execute_result"
    }
   ],
   "source": [
    "s2[6:30]"
   ]
  },
  {
   "cell_type": "code",
   "execution_count": 130,
   "id": "7e8409f0-0883-4118-a8ae-c3118c696ad4",
   "metadata": {},
   "outputs": [],
   "source": [
    "# here range is from 6 to 30 and we want alter native data so,"
   ]
  },
  {
   "cell_type": "code",
   "execution_count": 132,
   "id": "98b7f6b3-cb70-4f6f-abd5-453615575cbe",
   "metadata": {},
   "outputs": [
    {
     "data": {
      "text/plain": [
       "'sm is rgamn '"
      ]
     },
     "execution_count": 132,
     "metadata": {},
     "output_type": "execute_result"
    }
   ],
   "source": [
    "s2[6:30:2]"
   ]
  },
  {
   "cell_type": "code",
   "execution_count": 134,
   "id": "ab737283-57ef-424b-a93b-7b3f91dea6a6",
   "metadata": {},
   "outputs": [],
   "source": [
    "# in this case the 2 is jump and if no jump is mentioned by default the jump is always 1 "
   ]
  },
  {
   "cell_type": "code",
   "execution_count": 136,
   "id": "47e1cab5-f6f4-4645-8172-49d720bcfd56",
   "metadata": {},
   "outputs": [],
   "source": [
    "s=\"sudhanshu\""
   ]
  },
  {
   "cell_type": "code",
   "execution_count": 138,
   "id": "5c07e9c0-bc27-4a1f-939a-d755a845275b",
   "metadata": {},
   "outputs": [
    {
     "data": {
      "text/plain": [
       "'sudhanshu'"
      ]
     },
     "execution_count": 138,
     "metadata": {},
     "output_type": "execute_result"
    }
   ],
   "source": [
    "s[0:9]"
   ]
  },
  {
   "cell_type": "code",
   "execution_count": 140,
   "id": "2830d436-8e7e-47c2-831f-c27a1861eabe",
   "metadata": {},
   "outputs": [
    {
     "data": {
      "text/plain": [
       "'sdasu'"
      ]
     },
     "execution_count": 140,
     "metadata": {},
     "output_type": "execute_result"
    }
   ],
   "source": [
    "s[0:9:2]"
   ]
  },
  {
   "cell_type": "code",
   "execution_count": 142,
   "id": "5266f940-4421-408b-9310-a7a487c2be0b",
   "metadata": {},
   "outputs": [
    {
     "data": {
      "text/plain": [
       "'sudhanshu'"
      ]
     },
     "execution_count": 142,
     "metadata": {},
     "output_type": "execute_result"
    }
   ],
   "source": [
    "s[0:9:1]"
   ]
  },
  {
   "cell_type": "code",
   "execution_count": 144,
   "id": "f52f2213-38bd-465b-b8d1-d0b9075598c7",
   "metadata": {},
   "outputs": [
    {
     "data": {
      "text/plain": [
       "'sudhanshu'"
      ]
     },
     "execution_count": 144,
     "metadata": {},
     "output_type": "execute_result"
    }
   ],
   "source": [
    "s"
   ]
  },
  {
   "cell_type": "code",
   "execution_count": 146,
   "id": "b21539be-7caa-41d5-8fe4-59ea7a15b551",
   "metadata": {},
   "outputs": [
    {
     "data": {
      "text/plain": [
       "''"
      ]
     },
     "execution_count": 146,
     "metadata": {},
     "output_type": "execute_result"
    }
   ],
   "source": [
    "s[0:8:-1]"
   ]
  },
  {
   "cell_type": "code",
   "execution_count": 148,
   "id": "a081b186-9685-493f-b101-bffb307bea65",
   "metadata": {},
   "outputs": [],
   "source": [
    "# here 0 and 8 are indexes and -1 is jump \n",
    "# 0 to 8 is positive direction\n",
    "# while the jump is negetive in direction that is -1 \n",
    "# so it is created contracdition between positive and negetive so it is giving output as blank \n",
    " "
   ]
  },
  {
   "cell_type": "code",
   "execution_count": 150,
   "id": "e3b7ad15-fd5e-4e39-842e-addee2b31b78",
   "metadata": {},
   "outputs": [
    {
     "data": {
      "text/plain": [
       "'uhsnahdu'"
      ]
     },
     "execution_count": 150,
     "metadata": {},
     "output_type": "execute_result"
    }
   ],
   "source": [
    "s[8:0:-1]"
   ]
  },
  {
   "cell_type": "code",
   "execution_count": 152,
   "id": "26e1666c-70c3-4f5c-b2c6-a5d85bbabeb4",
   "metadata": {},
   "outputs": [],
   "source": [
    "#here 8 to 0 is negetive direction\n",
    "#-1 that is jump is also in negertive direction so there is no contradiction here hence we get an out out\n",
    "# but why s is not there which is 0th index ? as 0 is upper bound here so it is excluded as mention above\n",
    "# here 8 is lower bound 0 is upper bound and -1 is the jump "
   ]
  },
  {
   "cell_type": "code",
   "execution_count": null,
   "id": "882e3253-a039-405d-9292-2adc11ffe6eb",
   "metadata": {},
   "outputs": [],
   "source": []
  },
  {
   "cell_type": "code",
   "execution_count": 155,
   "id": "43b84fe0-3c96-498b-8993-6089f6955bdd",
   "metadata": {},
   "outputs": [
    {
     "data": {
      "text/plain": [
       "'usad'"
      ]
     },
     "execution_count": 155,
     "metadata": {},
     "output_type": "execute_result"
    }
   ],
   "source": [
    "s[8:0:-2]"
   ]
  },
  {
   "cell_type": "code",
   "execution_count": 157,
   "id": "1d4f06b7-1789-4229-a9c0-31207285c5c8",
   "metadata": {},
   "outputs": [
    {
     "data": {
      "text/plain": [
       "'sudhanshu'"
      ]
     },
     "execution_count": 157,
     "metadata": {},
     "output_type": "execute_result"
    }
   ],
   "source": [
    "s"
   ]
  },
  {
   "cell_type": "code",
   "execution_count": 159,
   "id": "3e2632fe-088a-4338-a46a-a5cf2f3101bb",
   "metadata": {},
   "outputs": [
    {
     "data": {
      "text/plain": [
       "'sudhan'"
      ]
     },
     "execution_count": 159,
     "metadata": {},
     "output_type": "execute_result"
    }
   ],
   "source": [
    "s[:-3]"
   ]
  },
  {
   "cell_type": "code",
   "execution_count": 161,
   "id": "68e59e10-b5d1-4d69-8249-2f12f4c2f880",
   "metadata": {},
   "outputs": [],
   "source": [
    "# when the starting index that is lower bound is not mention it by default condsider the lowest index in this case 0th idex \n",
    "# when upper bound is not given it by default consider the maxium or last inder in this case upper bound is not excluded but given in the range it self that is n+1 \n",
    "# when jump size is not given by default it is 1\n",
    "# in above case the start point is 0 and end point is -3 so it starts in positive direction only but stops at -3rd index point that is s but as -3 is upper bound so it excludes s and gives the next alphabet"
   ]
  },
  {
   "cell_type": "code",
   "execution_count": 163,
   "id": "b1a3843a-f7c9-44e5-b8b4-43b72daabf31",
   "metadata": {},
   "outputs": [
    {
     "data": {
      "text/plain": [
       "'hu'"
      ]
     },
     "execution_count": 163,
     "metadata": {},
     "output_type": "execute_result"
    }
   ],
   "source": [
    "s[-2:]"
   ]
  },
  {
   "cell_type": "code",
   "execution_count": 165,
   "id": "79240908-838a-48f8-86ca-0ea2597a80e1",
   "metadata": {},
   "outputs": [],
   "source": [
    "# here the starting index that is lower bound is given as -2\n",
    "# as upper bound is not given by default it will consider and include the last index/ maxium index in out put that is nth index + 1 (n=last index number)\n",
    "# in above case the last index is -1 so -2 to -1 is the positive direction and jump is also 1 that is positive direction\n",
    "# but upper bound is given in out put as mentioned that it will consider the last index when upper bound is not mentioned "
   ]
  },
  {
   "cell_type": "code",
   "execution_count": 167,
   "id": "71a564f0-2f43-49ac-8da1-063a5dadf8ab",
   "metadata": {},
   "outputs": [
    {
     "data": {
      "text/plain": [
       "'sudhanshu'"
      ]
     },
     "execution_count": 167,
     "metadata": {},
     "output_type": "execute_result"
    }
   ],
   "source": [
    "s[::1]"
   ]
  },
  {
   "cell_type": "code",
   "execution_count": 169,
   "id": "94b73a7e-8749-48a9-b03c-4438f605556d",
   "metadata": {},
   "outputs": [],
   "source": [
    "# in above case upper and lower bound both are not present so it consider it as max and min index respctively and jump is 1"
   ]
  },
  {
   "cell_type": "code",
   "execution_count": 171,
   "id": "1338ebf5-9526-457c-807b-7f94088f9ae5",
   "metadata": {},
   "outputs": [
    {
     "data": {
      "text/plain": [
       "'sudhanshu'"
      ]
     },
     "execution_count": 171,
     "metadata": {},
     "output_type": "execute_result"
    }
   ],
   "source": [
    "s[::]"
   ]
  },
  {
   "cell_type": "code",
   "execution_count": 173,
   "id": "5acc875f-6348-48d3-b614-0bbcd8d2b0ef",
   "metadata": {},
   "outputs": [
    {
     "data": {
      "text/plain": [
       "'uhsnahdus'"
      ]
     },
     "execution_count": 173,
     "metadata": {},
     "output_type": "execute_result"
    }
   ],
   "source": [
    "s[::-1]"
   ]
  },
  {
   "cell_type": "code",
   "execution_count": 175,
   "id": "f480cc9a-cd93-432b-9c7f-16f5352ac485",
   "metadata": {},
   "outputs": [],
   "source": [
    "# in above case upper and lower bound both are not present so it consider it as max and min index respctively and jump is -1 \n",
    "# here max and min index is given but as direction is negetive so it gives string in reverse in output"
   ]
  },
  {
   "cell_type": "code",
   "execution_count": 177,
   "id": "956e5f84-7ead-4aaa-912d-bb2a3c7e458d",
   "metadata": {},
   "outputs": [
    {
     "data": {
      "text/plain": [
       "'sudhanshu'"
      ]
     },
     "execution_count": 177,
     "metadata": {},
     "output_type": "execute_result"
    }
   ],
   "source": [
    "s[0:50:1]"
   ]
  },
  {
   "cell_type": "code",
   "execution_count": 179,
   "id": "6a6739bb-3d50-4cb3-b7d8-0ebcf675b236",
   "metadata": {},
   "outputs": [],
   "source": [
    "# this is the same case as above of [::] or [::1] as maximum upper bound can be anything as anyhow 50th index is not there in string so by default it will take the maximum index number is out put "
   ]
  },
  {
   "cell_type": "code",
   "execution_count": 181,
   "id": "2187654d-7ed3-4852-9ba9-1de8424cce0b",
   "metadata": {},
   "outputs": [
    {
     "data": {
      "text/plain": [
       "\"this is my first programming class's\""
      ]
     },
     "execution_count": 181,
     "metadata": {},
     "output_type": "execute_result"
    }
   ],
   "source": [
    "s2"
   ]
  },
  {
   "cell_type": "code",
   "execution_count": 183,
   "id": "fed47fa6-62d4-40cc-9005-2a601ee03303",
   "metadata": {},
   "outputs": [
    {
     "data": {
      "text/plain": [
       "\"s'ssalc gnimmargorp tsrif ym si siht\""
      ]
     },
     "execution_count": 183,
     "metadata": {},
     "output_type": "execute_result"
    }
   ],
   "source": [
    "s2[::-1]"
   ]
  },
  {
   "cell_type": "code",
   "execution_count": 185,
   "id": "1efee125-9dcb-4463-8b2d-4b6bffac17c8",
   "metadata": {},
   "outputs": [],
   "source": [
    "# so [::-1] is going to reverse the entire string"
   ]
  },
  {
   "cell_type": "code",
   "execution_count": 187,
   "id": "e367d5ae-8ff2-4702-be67-d6e7c5b76bb7",
   "metadata": {},
   "outputs": [],
   "source": [
    "s3=\"ineourn\""
   ]
  },
  {
   "cell_type": "code",
   "execution_count": 189,
   "id": "7f512b38-40bb-4a9c-8c52-8c4b493a677b",
   "metadata": {},
   "outputs": [
    {
     "data": {
      "text/plain": [
       "'nruoeni'"
      ]
     },
     "execution_count": 189,
     "metadata": {},
     "output_type": "execute_result"
    }
   ],
   "source": [
    "s3[::-1]"
   ]
  },
  {
   "cell_type": "code",
   "execution_count": 191,
   "id": "8db8f936-b14b-49fa-b416-1b8ce1edb7b1",
   "metadata": {},
   "outputs": [
    {
     "data": {
      "text/plain": [
       "''"
      ]
     },
     "execution_count": 191,
     "metadata": {},
     "output_type": "execute_result"
    }
   ],
   "source": [
    "s3[-2:-7:1]"
   ]
  },
  {
   "cell_type": "code",
   "execution_count": 193,
   "id": "e3293d27-d25c-4dad-88b1-352f1187bcee",
   "metadata": {},
   "outputs": [
    {
     "data": {
      "text/plain": [
       "'ineou'"
      ]
     },
     "execution_count": 193,
     "metadata": {},
     "output_type": "execute_result"
    }
   ],
   "source": [
    "s3[-7:-2:1]"
   ]
  },
  {
   "cell_type": "code",
   "execution_count": 195,
   "id": "b6e6258a-87f0-4638-b27c-4da3b7380e4c",
   "metadata": {},
   "outputs": [
    {
     "data": {
      "text/plain": [
       "''"
      ]
     },
     "execution_count": 195,
     "metadata": {},
     "output_type": "execute_result"
    }
   ],
   "source": [
    "s3[5:0]"
   ]
  },
  {
   "cell_type": "code",
   "execution_count": 197,
   "id": "0cbbb940-285d-4476-9af1-fe12d34f093e",
   "metadata": {},
   "outputs": [
    {
     "data": {
      "text/plain": [
       "'ineourn'"
      ]
     },
     "execution_count": 197,
     "metadata": {},
     "output_type": "execute_result"
    }
   ],
   "source": [
    "s3"
   ]
  },
  {
   "cell_type": "code",
   "execution_count": 199,
   "id": "9b0ee2ee-c549-4813-9fd4-d155449032fc",
   "metadata": {},
   "outputs": [
    {
     "data": {
      "text/plain": [
       "'in'"
      ]
     },
     "execution_count": 199,
     "metadata": {},
     "output_type": "execute_result"
    }
   ],
   "source": [
    "s3[-7:2:1]"
   ]
  },
  {
   "cell_type": "code",
   "execution_count": 201,
   "id": "6eed18dc-ea93-4bfd-a347-e5b39c61ca38",
   "metadata": {},
   "outputs": [],
   "source": [
    "# note when any index moves from negetive to to"
   ]
  },
  {
   "cell_type": "code",
   "execution_count": 203,
   "id": "b0b2e51f-5a1f-4665-85a8-7348c7e19efb",
   "metadata": {},
   "outputs": [
    {
     "data": {
      "text/plain": [
       "\"this is my first programming class's\""
      ]
     },
     "execution_count": 203,
     "metadata": {},
     "output_type": "execute_result"
    }
   ],
   "source": [
    "s2"
   ]
  },
  {
   "cell_type": "code",
   "execution_count": 205,
   "id": "25891337-884a-4623-a091-c655df383582",
   "metadata": {},
   "outputs": [
    {
     "data": {
      "text/plain": [
       "''"
      ]
     },
     "execution_count": 205,
     "metadata": {},
     "output_type": "execute_result"
    }
   ],
   "source": [
    "s2[-7:0:1]"
   ]
  },
  {
   "cell_type": "code",
   "execution_count": 207,
   "id": "6c895f2a-af8a-434e-91e7-549dc141333b",
   "metadata": {},
   "outputs": [
    {
     "data": {
      "text/plain": [
       "''"
      ]
     },
     "execution_count": 207,
     "metadata": {},
     "output_type": "execute_result"
    }
   ],
   "source": [
    "s2[-7:1:1]"
   ]
  },
  {
   "cell_type": "code",
   "execution_count": 209,
   "id": "62681e10-0e0b-404d-a603-82e7cf6d8ce6",
   "metadata": {},
   "outputs": [
    {
     "data": {
      "text/plain": [
       "''"
      ]
     },
     "execution_count": 209,
     "metadata": {},
     "output_type": "execute_result"
    }
   ],
   "source": [
    "s2[-7:4:1]"
   ]
  },
  {
   "cell_type": "code",
   "execution_count": 211,
   "id": "a3ff1141-3d94-47b1-ace1-3572aebd0297",
   "metadata": {},
   "outputs": [
    {
     "data": {
      "text/plain": [
       "'c gnimmargorp tsrif ym si si'"
      ]
     },
     "execution_count": 211,
     "metadata": {},
     "output_type": "execute_result"
    }
   ],
   "source": [
    "s2[-7:1:-1]"
   ]
  },
  {
   "cell_type": "code",
   "execution_count": 213,
   "id": "40b5e922-7b62-4fac-8151-ec8fdb34431f",
   "metadata": {},
   "outputs": [],
   "source": [
    "## this are called string slicing operation"
   ]
  },
  {
   "cell_type": "code",
   "execution_count": 215,
   "id": "53648921-ef37-401c-b94e-5a38e89fe3d2",
   "metadata": {},
   "outputs": [
    {
     "data": {
      "text/plain": [
       "'sudhanshu'"
      ]
     },
     "execution_count": 215,
     "metadata": {},
     "output_type": "execute_result"
    }
   ],
   "source": [
    "s"
   ]
  },
  {
   "cell_type": "code",
   "execution_count": 217,
   "id": "95dd6b44-bc3a-4935-9b43-604ad07943dc",
   "metadata": {},
   "outputs": [
    {
     "data": {
      "text/plain": [
       "''"
      ]
     },
     "execution_count": 217,
     "metadata": {},
     "output_type": "execute_result"
    }
   ],
   "source": [
    "s[:-1:-1]"
   ]
  },
  {
   "cell_type": "code",
   "execution_count": 219,
   "id": "72ff20d3-ff61-450e-971b-25d1ec08fca8",
   "metadata": {},
   "outputs": [
    {
     "ename": "TypeError",
     "evalue": "can only concatenate str (not \"int\") to str",
     "output_type": "error",
     "traceback": [
      "\u001b[1;31m---------------------------------------------------------------------------\u001b[0m",
      "\u001b[1;31mTypeError\u001b[0m                                 Traceback (most recent call last)",
      "Cell \u001b[1;32mIn[219], line 1\u001b[0m\n\u001b[1;32m----> 1\u001b[0m \u001b[43ms\u001b[49m\u001b[38;5;241;43m+\u001b[39;49m\u001b[38;5;241;43m1\u001b[39;49m\n",
      "\u001b[1;31mTypeError\u001b[0m: can only concatenate str (not \"int\") to str"
     ]
    }
   ],
   "source": [
    "s+1"
   ]
  },
  {
   "cell_type": "code",
   "execution_count": 221,
   "id": "1e50c4be-4b12-4136-9fae-a1f9e23119ae",
   "metadata": {},
   "outputs": [],
   "source": [
    "# in python data type should be same to perfom mathematical operation "
   ]
  },
  {
   "cell_type": "code",
   "execution_count": 223,
   "id": "5f437698-544f-4e66-91e2-3a39ff180b26",
   "metadata": {},
   "outputs": [
    {
     "data": {
      "text/plain": [
       "'sudhanshu1'"
      ]
     },
     "execution_count": 223,
     "metadata": {},
     "output_type": "execute_result"
    }
   ],
   "source": [
    "s+str(1) "
   ]
  },
  {
   "cell_type": "code",
   "execution_count": 225,
   "id": "f2e7e8b4-020f-490a-8e68-d1b75dd2434b",
   "metadata": {},
   "outputs": [
    {
     "data": {
      "text/plain": [
       "'sudhanshu1'"
      ]
     },
     "execution_count": 225,
     "metadata": {},
     "output_type": "execute_result"
    }
   ],
   "source": [
    "s+'1'"
   ]
  },
  {
   "cell_type": "code",
   "execution_count": 227,
   "id": "3925a094-a819-4442-be3c-7e2f5d78cd5e",
   "metadata": {},
   "outputs": [],
   "source": [
    "# this are the two ways to convert integer into string and perfom operation so string is also available in the form of function that is str() this converting is called typecasting"
   ]
  },
  {
   "cell_type": "code",
   "execution_count": 229,
   "id": "b4177ef3-b8ef-4634-a398-c3e119879e26",
   "metadata": {},
   "outputs": [
    {
     "data": {
      "text/plain": [
       "9"
      ]
     },
     "execution_count": 229,
     "metadata": {},
     "output_type": "execute_result"
    }
   ],
   "source": [
    "len(s)"
   ]
  },
  {
   "cell_type": "code",
   "execution_count": 231,
   "id": "6fe1ab07-db9c-47dd-a0a1-a43467f5f99d",
   "metadata": {},
   "outputs": [],
   "source": [
    "# len is the length function used to count the space or number of index occupied by data that is the length of that data "
   ]
  },
  {
   "cell_type": "code",
   "execution_count": 233,
   "id": "279fb485-f660-4bf6-986d-c74f56b82f2a",
   "metadata": {},
   "outputs": [
    {
     "data": {
      "text/plain": [
       "'sudhanshusudhanshusudhanshusudhanshusudhanshu'"
      ]
     },
     "execution_count": 233,
     "metadata": {},
     "output_type": "execute_result"
    }
   ],
   "source": [
    "s*5"
   ]
  },
  {
   "cell_type": "code",
   "execution_count": 249,
   "id": "be46088a-c2fb-4499-8071-2d7c4cef695c",
   "metadata": {},
   "outputs": [
    {
     "data": {
      "text/plain": [
       "2"
      ]
     },
     "execution_count": 249,
     "metadata": {},
     "output_type": "execute_result"
    }
   ],
   "source": [
    "s.count('s')"
   ]
  },
  {
   "cell_type": "code",
   "execution_count": 251,
   "id": "fe623f72-be50-42a6-b4de-87afe1e78f79",
   "metadata": {},
   "outputs": [
    {
     "data": {
      "text/plain": [
       "'sudhanshu'"
      ]
     },
     "execution_count": 251,
     "metadata": {},
     "output_type": "execute_result"
    }
   ],
   "source": [
    "s"
   ]
  },
  {
   "cell_type": "code",
   "execution_count": 253,
   "id": "019f0985-f2de-42e5-9065-c0d329074870",
   "metadata": {},
   "outputs": [
    {
     "data": {
      "text/plain": [
       "1"
      ]
     },
     "execution_count": 253,
     "metadata": {},
     "output_type": "execute_result"
    }
   ],
   "source": [
    "s.count('ud')"
   ]
  },
  {
   "cell_type": "code",
   "execution_count": 255,
   "id": "e246e0b5-a0dc-4423-ad4e-25bf523b46b3",
   "metadata": {},
   "outputs": [
    {
     "data": {
      "text/plain": [
       "0"
      ]
     },
     "execution_count": 255,
     "metadata": {},
     "output_type": "execute_result"
    }
   ],
   "source": [
    "s.count('sum')"
   ]
  },
  {
   "cell_type": "code",
   "execution_count": 257,
   "id": "165339ed-556b-47b0-8bb7-26c5af0a12a4",
   "metadata": {},
   "outputs": [
    {
     "data": {
      "text/plain": [
       "['s', 'dhansh', '']"
      ]
     },
     "execution_count": 257,
     "metadata": {},
     "output_type": "execute_result"
    }
   ],
   "source": [
    "s.split('u')"
   ]
  },
  {
   "cell_type": "code",
   "execution_count": 259,
   "id": "34dc2b70-a775-445f-9fea-8edf2d904406",
   "metadata": {},
   "outputs": [
    {
     "data": {
      "text/plain": [
       "list"
      ]
     },
     "execution_count": 259,
     "metadata": {},
     "output_type": "execute_result"
    }
   ],
   "source": [
    "type(s.split('u'))"
   ]
  },
  {
   "cell_type": "code",
   "execution_count": 269,
   "id": "df54c60d-a21e-43f3-a038-d1fbab2863e6",
   "metadata": {},
   "outputs": [
    {
     "ename": "SyntaxError",
     "evalue": "unterminated string literal (detected at line 1) (3062493610.py, line 1)",
     "output_type": "error",
     "traceback": [
      "\u001b[1;36m  Cell \u001b[1;32mIn[269], line 1\u001b[1;36m\u001b[0m\n\u001b[1;33m    sw = \" Samsung Group[3] (Korean: 삼성; Hanja: 三星; RR: samseong [samsʌŋ]; stylised as SΛMSUNG) is a South Korean multinational manufacturing conglomerate headquartered in Samsung Digital City, Suwon, South Korea.[1] It comprises numerous affiliated businesses,[1] most of them united under the Samsung brand, and is the largest South Korean chaebol (business conglomerate). As of 2020, Samsung has the world's eighth-highest brand value.[4]\u001b[0m\n\u001b[1;37m         ^\u001b[0m\n\u001b[1;31mSyntaxError\u001b[0m\u001b[1;31m:\u001b[0m unterminated string literal (detected at line 1)\n"
     ]
    }
   ],
   "source": [
    "sw = \"Samsung Gr oup[3] (Korean: 삼성; Hanja: 三星; RR: samseong [samsʌŋ]; stylised as SΛMSUNG) is a South Korean multinational manufacturing conglomerate headquartered in Samsung Digital City, Suwon, South Korea.[1] It comprises numerous affiliated businesses,[1] most of them united under the Samsung brand, and is the largest South Korean chaebol (business conglomerate). As of 2020, Samsung has the world's eighth-highest brand value.[4]\n",
    "\n",
    "Samsung was founded by Lee Byung-chul in 1938 as a trading company. Over the next three decades, the group diversified into areas including food processing, textiles, insurance, securities, and retail. Samsung entered the electronics industry in the late 1960s and the construction and shipbuilding industries in the mid-1970s; these areas would drive its subsequent growth. Following Lee's death in 1987, Samsung was separated into five business groups – Samsung Group, Shinsegae Group, CJ Group and Hansol Group, and JoongAng Group.\n",
    "\n",
    "Notable Samsung industrial affiliates include Samsung Electronics (the world's largest information technology company, consumer electronics maker and chipmaker measured by 2017 revenues),[5][6] Samsung Heavy Industries (the world's second largest shipbuilder measured by 2010 revenues),[7] and Samsung Engineering and Samsung C&T Corporation (respectively the world's 13th and 36th largest construction companies).[8] Other notable subsidiaries include Samsung Life Insurance (the world's 14th largest life insurance company),[9] Samsung Everland (operator of Everland Resort, the oldest theme park in South Korea)[10] and Cheil Worldwide (the world's 15th largest advertising agency, as measured by 2012 revenues). \""
   ]
  },
  {
   "cell_type": "code",
   "execution_count": 279,
   "id": "6718f914-2e45-4ccb-8ce9-ff028d0d7703",
   "metadata": {},
   "outputs": [],
   "source": [
    "sw = \"Samsung Gr oup[3] (Korean: 삼성; Hanja: 三星; RR: samseong [samsʌŋ]; stylised as SΛMSUNG) is a South Korean multinational manufacturing conglomerate headquartered in Samsung Digital City, Suwon, South Korea.[1] It comprises numerous affiliated businesses,[1] most of them united under the Samsung brand, is the largest South Korean chaebol (business conglomerate). As of 2020, Samsung has the world's eighth-highest brand value\""
   ]
  },
  {
   "cell_type": "code",
   "execution_count": 281,
   "id": "150234bf-3935-45fd-a70c-cb850f4b3785",
   "metadata": {},
   "outputs": [
    {
     "data": {
      "text/plain": [
       "\"Samsung Gr oup[3] (Korean: 삼성; Hanja: 三星; RR: samseong [samsʌŋ]; stylised as SΛMSUNG) is a South Korean multinational manufacturing conglomerate headquartered in Samsung Digital City, Suwon, South Korea.[1] It comprises numerous affiliated businesses,[1] most of them united under the Samsung brand, is the largest South Korean chaebol (business conglomerate). As of 2020, Samsung has the world's eighth-highest brand value\""
      ]
     },
     "execution_count": 281,
     "metadata": {},
     "output_type": "execute_result"
    }
   ],
   "source": [
    "sw"
   ]
  },
  {
   "cell_type": "code",
   "execution_count": 283,
   "id": "fd57a5a6-f8b8-40e8-bea1-2fe844dc7405",
   "metadata": {},
   "outputs": [
    {
     "data": {
      "text/plain": [
       "['Samsung',\n",
       " 'Gr',\n",
       " 'oup[3]',\n",
       " '(Korean:',\n",
       " '삼성;',\n",
       " 'Hanja:',\n",
       " '三星;',\n",
       " 'RR:',\n",
       " 'samseong',\n",
       " '[samsʌŋ];',\n",
       " 'stylised',\n",
       " 'as',\n",
       " 'SΛMSUNG)',\n",
       " 'is',\n",
       " 'a',\n",
       " 'South',\n",
       " 'Korean',\n",
       " 'multinational',\n",
       " 'manufacturing',\n",
       " 'conglomerate',\n",
       " 'headquartered',\n",
       " 'in',\n",
       " 'Samsung',\n",
       " 'Digital',\n",
       " 'City,',\n",
       " 'Suwon,',\n",
       " 'South',\n",
       " 'Korea.[1]',\n",
       " 'It',\n",
       " 'comprises',\n",
       " 'numerous',\n",
       " 'affiliated',\n",
       " 'businesses,[1]',\n",
       " 'most',\n",
       " 'of',\n",
       " 'them',\n",
       " 'united',\n",
       " 'under',\n",
       " 'the',\n",
       " 'Samsung',\n",
       " 'brand,',\n",
       " 'is',\n",
       " 'the',\n",
       " 'largest',\n",
       " 'South',\n",
       " 'Korean',\n",
       " 'chaebol',\n",
       " '(business',\n",
       " 'conglomerate).',\n",
       " 'As',\n",
       " 'of',\n",
       " '2020,',\n",
       " 'Samsung',\n",
       " 'has',\n",
       " 'the',\n",
       " \"world's\",\n",
       " 'eighth-highest',\n",
       " 'brand',\n",
       " 'value']"
      ]
     },
     "execution_count": 283,
     "metadata": {},
     "output_type": "execute_result"
    }
   ],
   "source": [
    "sw.split(' ')"
   ]
  },
  {
   "cell_type": "code",
   "execution_count": 285,
   "id": "5eba82ca-4516-4719-8b1c-e6e67bd6b156",
   "metadata": {},
   "outputs": [
    {
     "data": {
      "text/plain": [
       "59"
      ]
     },
     "execution_count": 285,
     "metadata": {},
     "output_type": "execute_result"
    }
   ],
   "source": [
    "len(sw.split(' '))"
   ]
  },
  {
   "cell_type": "code",
   "execution_count": 289,
   "id": "990fe325-7cec-4133-a618-32012b1ed3c5",
   "metadata": {},
   "outputs": [
    {
     "data": {
      "text/plain": [
       "3"
      ]
     },
     "execution_count": 289,
     "metadata": {},
     "output_type": "execute_result"
    }
   ],
   "source": [
    "sw.count('Korean')"
   ]
  },
  {
   "cell_type": "code",
   "execution_count": 291,
   "id": "63010b8a-1134-4a46-8779-7966a810d0ca",
   "metadata": {},
   "outputs": [
    {
     "ename": "SyntaxError",
     "evalue": "unterminated string literal (detected at line 1) (346102100.py, line 1)",
     "output_type": "error",
     "traceback": [
      "\u001b[1;36m  Cell \u001b[1;32mIn[291], line 1\u001b[1;36m\u001b[0m\n\u001b[1;33m    sw = \"Samsung Gr oup[3] (Korean: 삼성; Hanja: 三星; RR: samseong [samsʌŋ]; stylised as SΛMSUNG) is a South Korean multinational manufacturing conglomerate headquartered in Samsung Digital City, Suwon, South Korea.[1] It comprises numerous affiliated businesses,[1] most of them united under the Samsung brand, and is the largest South Korean chaebol (business conglomerate). As of 2020, Samsung has the world's eighth-highest brand value.[4]\u001b[0m\n\u001b[1;37m         ^\u001b[0m\n\u001b[1;31mSyntaxError\u001b[0m\u001b[1;31m:\u001b[0m unterminated string literal (detected at line 1)\n"
     ]
    }
   ],
   "source": [
    "sw = \"Samsung Gr oup[3] (Korean: 삼성; Hanja: 三星; RR: samseong [samsʌŋ]; stylised as SΛMSUNG) is a South Korean multinational manufacturing conglomerate headquartered in Samsung Digital City, Suwon, South Korea.[1] It comprises numerous affiliated businesses,[1] most of them united under the Samsung brand, and is the largest South Korean chaebol (business conglomerate). As of 2020, Samsung has the world's eighth-highest brand value.[4]\n",
    "\n",
    "Samsung was founded by Lee Byung-chul in 1938 as a trading company. Over the next three decades, the group diversified into areas including food processing, textiles, insurance, securities, and retail. Samsung entered the electronics industry in the late 1960s and the construction and shipbuilding industries in the mid-1970s; these areas would drive its subsequent growth. Following Lee's death in 1987, Samsung was separated into five business groups – Samsung Group, Shinsegae Group, CJ Group and Hansol Group, and JoongAng Group.\n",
    "\n",
    "Notable Samsung industrial affiliates include Samsung Electronics (the world's largest information technology company, consumer electronics maker and chipmaker measured by 2017 revenues),[5][6] Samsung Heavy Industries (the world's second largest shipbuilder measured by 2010 revenues),[7] and Samsung Engineering and Samsung C&T Corporation (respectively the world's 13th and 36th largest construction companies).[8] Other notable subsidiaries include Samsung Life Insurance (the world's 14th largest life insurance company),[9] Samsung Everland (operator of Everland Resort, the oldest theme park in South Korea)[10] and Cheil Worldwide (the world's 15th largest advertising agency, as measured by 2012 revenues). \""
   ]
  },
  {
   "cell_type": "code",
   "execution_count": 293,
   "id": "dea58f57-77c1-4c96-a55a-5d99f65002d0",
   "metadata": {},
   "outputs": [],
   "source": [
    "sw = \"\"\"Samsung Gr oup[3] (Korean: 삼성; Hanja: 三星; RR: samseong [samsʌŋ]; stylised as SΛMSUNG) is a South Korean multinational manufacturing conglomerate headquartered in Samsung Digital City, Suwon, South Korea.[1] It comprises numerous affiliated businesses,[1] most of them united under the Samsung brand, and is the largest South Korean chaebol (business conglomerate). As of 2020, Samsung has the world's eighth-highest brand value.[4]\n",
    "\n",
    "Samsung was founded by Lee Byung-chul in 1938 as a trading company. Over the next three decades, the group diversified into areas including food processing, textiles, insurance, securities, and retail. Samsung entered the electronics industry in the late 1960s and the construction and shipbuilding industries in the mid-1970s; these areas would drive its subsequent growth. Following Lee's death in 1987, Samsung was separated into five business groups – Samsung Group, Shinsegae Group, CJ Group and Hansol Group, and JoongAng Group.\n",
    "\n",
    "Notable Samsung industrial affiliates include Samsung Electronics (the world's largest information technology company, consumer electronics maker and chipmaker measured by 2017 revenues),[5][6] Samsung Heavy Industries (the world's second largest shipbuilder measured by 2010 revenues),[7] and Samsung Engineering and Samsung C&T Corporation (respectively the world's 13th and 36th largest construction companies).[8] Other notable subsidiaries include Samsung Life Insurance (the world's 14th largest life insurance company),[9] Samsung Everland (operator of Everland Resort, the oldest theme park in South Korea)[10] and Cheil Worldwide (the world's 15th largest advertising agency, as measured by 2012 revenues). \"\"\""
   ]
  },
  {
   "cell_type": "code",
   "execution_count": 295,
   "id": "ac1b773f-54cc-4338-8023-4002609f5670",
   "metadata": {},
   "outputs": [
    {
     "data": {
      "text/plain": [
       "\"Samsung Gr oup[3] (Korean: 삼성; Hanja: 三星; RR: samseong [samsʌŋ]; stylised as SΛMSUNG) is a South Korean multinational manufacturing conglomerate headquartered in Samsung Digital City, Suwon, South Korea.[1] It comprises numerous affiliated businesses,[1] most of them united under the Samsung brand, and is the largest South Korean chaebol (business conglomerate). As of 2020, Samsung has the world's eighth-highest brand value.[4]\\n\\nSamsung was founded by Lee Byung-chul in 1938 as a trading company. Over the next three decades, the group diversified into areas including food processing, textiles, insurance, securities, and retail. Samsung entered the electronics industry in the late 1960s and the construction and shipbuilding industries in the mid-1970s; these areas would drive its subsequent growth. Following Lee's death in 1987, Samsung was separated into five business groups – Samsung Group, Shinsegae Group, CJ Group and Hansol Group, and JoongAng Group.\\n\\nNotable Samsung industrial affiliates include Samsung Electronics (the world's largest information technology company, consumer electronics maker and chipmaker measured by 2017 revenues),[5][6] Samsung Heavy Industries (the world's second largest shipbuilder measured by 2010 revenues),[7] and Samsung Engineering and Samsung C&T Corporation (respectively the world's 13th and 36th largest construction companies).[8] Other notable subsidiaries include Samsung Life Insurance (the world's 14th largest life insurance company),[9] Samsung Everland (operator of Everland Resort, the oldest theme park in South Korea)[10] and Cheil Worldwide (the world's 15th largest advertising agency, as measured by 2012 revenues). \""
      ]
     },
     "execution_count": 295,
     "metadata": {},
     "output_type": "execute_result"
    }
   ],
   "source": [
    "sw"
   ]
  },
  {
   "cell_type": "code",
   "execution_count": 297,
   "id": "f5b56198-516f-4f2c-9ccd-9f60ae758087",
   "metadata": {},
   "outputs": [],
   "source": [
    "## when there are multiple lines in string use \" three times both the side to avoid error "
   ]
  },
  {
   "cell_type": "code",
   "execution_count": 299,
   "id": "010a8e6a-554b-44cd-a083-a133e05b8b36",
   "metadata": {},
   "outputs": [
    {
     "data": {
      "text/plain": [
       "['Samsung',\n",
       " 'Gr',\n",
       " 'oup[3]',\n",
       " '(Korean:',\n",
       " '삼성;',\n",
       " 'Hanja:',\n",
       " '三星;',\n",
       " 'RR:',\n",
       " 'samseong',\n",
       " '[samsʌŋ];',\n",
       " 'stylised',\n",
       " 'as',\n",
       " 'SΛMSUNG)',\n",
       " 'is',\n",
       " 'a',\n",
       " 'South',\n",
       " 'Korean',\n",
       " 'multinational',\n",
       " 'manufacturing',\n",
       " 'conglomerate',\n",
       " 'headquartered',\n",
       " 'in',\n",
       " 'Samsung',\n",
       " 'Digital',\n",
       " 'City,',\n",
       " 'Suwon,',\n",
       " 'South',\n",
       " 'Korea.[1]',\n",
       " 'It',\n",
       " 'comprises',\n",
       " 'numerous',\n",
       " 'affiliated',\n",
       " 'businesses,[1]',\n",
       " 'most',\n",
       " 'of',\n",
       " 'them',\n",
       " 'united',\n",
       " 'under',\n",
       " 'the',\n",
       " 'Samsung',\n",
       " 'brand,',\n",
       " 'and',\n",
       " 'is',\n",
       " 'the',\n",
       " 'largest',\n",
       " 'South',\n",
       " 'Korean',\n",
       " 'chaebol',\n",
       " '(business',\n",
       " 'conglomerate).',\n",
       " 'As',\n",
       " 'of',\n",
       " '2020,',\n",
       " 'Samsung',\n",
       " 'has',\n",
       " 'the',\n",
       " \"world's\",\n",
       " 'eighth-highest',\n",
       " 'brand',\n",
       " 'value.[4]\\n\\nSamsung',\n",
       " 'was',\n",
       " 'founded',\n",
       " 'by',\n",
       " 'Lee',\n",
       " 'Byung-chul',\n",
       " 'in',\n",
       " '1938',\n",
       " 'as',\n",
       " 'a',\n",
       " 'trading',\n",
       " 'company.',\n",
       " 'Over',\n",
       " 'the',\n",
       " 'next',\n",
       " 'three',\n",
       " 'decades,',\n",
       " 'the',\n",
       " 'group',\n",
       " 'diversified',\n",
       " 'into',\n",
       " 'areas',\n",
       " 'including',\n",
       " 'food',\n",
       " 'processing,',\n",
       " 'textiles,',\n",
       " 'insurance,',\n",
       " 'securities,',\n",
       " 'and',\n",
       " 'retail.',\n",
       " 'Samsung',\n",
       " 'entered',\n",
       " 'the',\n",
       " 'electronics',\n",
       " 'industry',\n",
       " 'in',\n",
       " 'the',\n",
       " 'late',\n",
       " '1960s',\n",
       " 'and',\n",
       " 'the',\n",
       " 'construction',\n",
       " 'and',\n",
       " 'shipbuilding',\n",
       " 'industries',\n",
       " 'in',\n",
       " 'the',\n",
       " 'mid-1970s;',\n",
       " 'these',\n",
       " 'areas',\n",
       " 'would',\n",
       " 'drive',\n",
       " 'its',\n",
       " 'subsequent',\n",
       " 'growth.',\n",
       " 'Following',\n",
       " \"Lee's\",\n",
       " 'death',\n",
       " 'in',\n",
       " '1987,',\n",
       " 'Samsung',\n",
       " 'was',\n",
       " 'separated',\n",
       " 'into',\n",
       " 'five',\n",
       " 'business',\n",
       " 'groups',\n",
       " '–',\n",
       " 'Samsung',\n",
       " 'Group,',\n",
       " 'Shinsegae',\n",
       " 'Group,',\n",
       " 'CJ',\n",
       " 'Group',\n",
       " 'and',\n",
       " 'Hansol',\n",
       " 'Group,',\n",
       " 'and',\n",
       " 'JoongAng',\n",
       " 'Group.\\n\\nNotable',\n",
       " 'Samsung',\n",
       " 'industrial',\n",
       " 'affiliates',\n",
       " 'include',\n",
       " 'Samsung',\n",
       " 'Electronics',\n",
       " '(the',\n",
       " \"world's\",\n",
       " 'largest',\n",
       " 'information',\n",
       " 'technology',\n",
       " 'company,',\n",
       " 'consumer',\n",
       " 'electronics',\n",
       " 'maker',\n",
       " 'and',\n",
       " 'chipmaker',\n",
       " 'measured',\n",
       " 'by',\n",
       " '2017',\n",
       " 'revenues),[5][6]',\n",
       " 'Samsung',\n",
       " 'Heavy',\n",
       " 'Industries',\n",
       " '(the',\n",
       " \"world's\",\n",
       " 'second',\n",
       " 'largest',\n",
       " 'shipbuilder',\n",
       " 'measured',\n",
       " 'by',\n",
       " '2010',\n",
       " 'revenues),[7]',\n",
       " 'and',\n",
       " 'Samsung',\n",
       " 'Engineering',\n",
       " 'and',\n",
       " 'Samsung',\n",
       " 'C&T',\n",
       " 'Corporation',\n",
       " '(respectively',\n",
       " 'the',\n",
       " \"world's\",\n",
       " '13th',\n",
       " 'and',\n",
       " '36th',\n",
       " 'largest',\n",
       " 'construction',\n",
       " 'companies).[8]',\n",
       " 'Other',\n",
       " 'notable',\n",
       " 'subsidiaries',\n",
       " 'include',\n",
       " 'Samsung',\n",
       " 'Life',\n",
       " 'Insurance',\n",
       " '(the',\n",
       " \"world's\",\n",
       " '14th',\n",
       " 'largest',\n",
       " 'life',\n",
       " 'insurance',\n",
       " 'company),[9]',\n",
       " 'Samsung',\n",
       " 'Everland',\n",
       " '(operator',\n",
       " 'of',\n",
       " 'Everland',\n",
       " 'Resort,',\n",
       " 'the',\n",
       " 'oldest',\n",
       " 'theme',\n",
       " 'park',\n",
       " 'in',\n",
       " 'South',\n",
       " 'Korea)[10]',\n",
       " 'and',\n",
       " 'Cheil',\n",
       " 'Worldwide',\n",
       " '(the',\n",
       " \"world's\",\n",
       " '15th',\n",
       " 'largest',\n",
       " 'advertising',\n",
       " 'agency,',\n",
       " 'as',\n",
       " 'measured',\n",
       " 'by',\n",
       " '2012',\n",
       " 'revenues).',\n",
       " '']"
      ]
     },
     "execution_count": 299,
     "metadata": {},
     "output_type": "execute_result"
    }
   ],
   "source": [
    "sw.split(' ')"
   ]
  },
  {
   "cell_type": "code",
   "execution_count": 301,
   "id": "691cec29-a574-4935-a21a-159f57c6727f",
   "metadata": {},
   "outputs": [
    {
     "data": {
      "text/plain": [
       "230"
      ]
     },
     "execution_count": 301,
     "metadata": {},
     "output_type": "execute_result"
    }
   ],
   "source": [
    "len(sw.split(' '))"
   ]
  },
  {
   "cell_type": "code",
   "execution_count": 303,
   "id": "9c0bea8f-4b4f-4d9e-8f99-3e7260cee2df",
   "metadata": {},
   "outputs": [
    {
     "data": {
      "text/plain": [
       "\"Samsung Gr oup[3] (Korean: 삼성; Hanja: 三星; RR: samseong [samsʌŋ]; stylised as SΛMSUNG) is a South Korean multinational manufacturing conglomerate headquartered in Samsung Digital City, Suwon, South Korea.[1] It comprises numerous affiliated businesses,[1] most of them united under the Samsung brand, and is the largest South Korean chaebol (business conglomerate). As of 2020, Samsung has the world's eighth-highest brand value.[4]\\n\\nSamsung was founded by Lee Byung-chul in 1938 as a trading company. Over the next three decades, the group diversified into areas including food processing, textiles, insurance, securities, and retail. Samsung entered the electronics industry in the late 1960s and the construction and shipbuilding industries in the mid-1970s; these areas would drive its subsequent growth. Following Lee's death in 1987, Samsung was separated into five business groups – Samsung Group, Shinsegae Group, CJ Group and Hansol Group, and JoongAng Group.\\n\\nNotable Samsung industrial affiliates include Samsung Electronics (the world's largest information technology company, consumer electronics maker and chipmaker measured by 2017 revenues),[5][6] Samsung Heavy Industries (the world's second largest shipbuilder measured by 2010 revenues),[7] and Samsung Engineering and Samsung C&T Corporation (respectively the world's 13th and 36th largest construction companies).[8] Other notable subsidiaries include Samsung Life Insurance (the world's 14th largest life insurance company),[9] Samsung Everland (operator of Everland Resort, the oldest theme park in South Korea)[10] and Cheil Worldwide (the world's 15th largest advertising agency, as measured by 2012 revenues). \""
      ]
     },
     "execution_count": 303,
     "metadata": {},
     "output_type": "execute_result"
    }
   ],
   "source": [
    "sw"
   ]
  },
  {
   "cell_type": "code",
   "execution_count": 305,
   "id": "174cc1ed-20e3-4480-a16d-37c22b863bf1",
   "metadata": {},
   "outputs": [
    {
     "data": {
      "text/plain": [
       "\"SAMSUNG GR OUP[3] (KOREAN: 삼성; HANJA: 三星; RR: SAMSEONG [SAMSɅŊ]; STYLISED AS SΛMSUNG) IS A SOUTH KOREAN MULTINATIONAL MANUFACTURING CONGLOMERATE HEADQUARTERED IN SAMSUNG DIGITAL CITY, SUWON, SOUTH KOREA.[1] IT COMPRISES NUMEROUS AFFILIATED BUSINESSES,[1] MOST OF THEM UNITED UNDER THE SAMSUNG BRAND, AND IS THE LARGEST SOUTH KOREAN CHAEBOL (BUSINESS CONGLOMERATE). AS OF 2020, SAMSUNG HAS THE WORLD'S EIGHTH-HIGHEST BRAND VALUE.[4]\\n\\nSAMSUNG WAS FOUNDED BY LEE BYUNG-CHUL IN 1938 AS A TRADING COMPANY. OVER THE NEXT THREE DECADES, THE GROUP DIVERSIFIED INTO AREAS INCLUDING FOOD PROCESSING, TEXTILES, INSURANCE, SECURITIES, AND RETAIL. SAMSUNG ENTERED THE ELECTRONICS INDUSTRY IN THE LATE 1960S AND THE CONSTRUCTION AND SHIPBUILDING INDUSTRIES IN THE MID-1970S; THESE AREAS WOULD DRIVE ITS SUBSEQUENT GROWTH. FOLLOWING LEE'S DEATH IN 1987, SAMSUNG WAS SEPARATED INTO FIVE BUSINESS GROUPS – SAMSUNG GROUP, SHINSEGAE GROUP, CJ GROUP AND HANSOL GROUP, AND JOONGANG GROUP.\\n\\nNOTABLE SAMSUNG INDUSTRIAL AFFILIATES INCLUDE SAMSUNG ELECTRONICS (THE WORLD'S LARGEST INFORMATION TECHNOLOGY COMPANY, CONSUMER ELECTRONICS MAKER AND CHIPMAKER MEASURED BY 2017 REVENUES),[5][6] SAMSUNG HEAVY INDUSTRIES (THE WORLD'S SECOND LARGEST SHIPBUILDER MEASURED BY 2010 REVENUES),[7] AND SAMSUNG ENGINEERING AND SAMSUNG C&T CORPORATION (RESPECTIVELY THE WORLD'S 13TH AND 36TH LARGEST CONSTRUCTION COMPANIES).[8] OTHER NOTABLE SUBSIDIARIES INCLUDE SAMSUNG LIFE INSURANCE (THE WORLD'S 14TH LARGEST LIFE INSURANCE COMPANY),[9] SAMSUNG EVERLAND (OPERATOR OF EVERLAND RESORT, THE OLDEST THEME PARK IN SOUTH KOREA)[10] AND CHEIL WORLDWIDE (THE WORLD'S 15TH LARGEST ADVERTISING AGENCY, AS MEASURED BY 2012 REVENUES). \""
      ]
     },
     "execution_count": 305,
     "metadata": {},
     "output_type": "execute_result"
    }
   ],
   "source": [
    "sw.upper()"
   ]
  },
  {
   "cell_type": "code",
   "execution_count": 307,
   "id": "3af7f58c-51d3-4676-a483-5975aa51d6f7",
   "metadata": {},
   "outputs": [
    {
     "data": {
      "text/plain": [
       "\"samsung gr oup[3] (korean: 삼성; hanja: 三星; rr: samseong [samsʌŋ]; stylised as sλmsung) is a south korean multinational manufacturing conglomerate headquartered in samsung digital city, suwon, south korea.[1] it comprises numerous affiliated businesses,[1] most of them united under the samsung brand, and is the largest south korean chaebol (business conglomerate). as of 2020, samsung has the world's eighth-highest brand value.[4]\\n\\nsamsung was founded by lee byung-chul in 1938 as a trading company. over the next three decades, the group diversified into areas including food processing, textiles, insurance, securities, and retail. samsung entered the electronics industry in the late 1960s and the construction and shipbuilding industries in the mid-1970s; these areas would drive its subsequent growth. following lee's death in 1987, samsung was separated into five business groups – samsung group, shinsegae group, cj group and hansol group, and joongang group.\\n\\nnotable samsung industrial affiliates include samsung electronics (the world's largest information technology company, consumer electronics maker and chipmaker measured by 2017 revenues),[5][6] samsung heavy industries (the world's second largest shipbuilder measured by 2010 revenues),[7] and samsung engineering and samsung c&t corporation (respectively the world's 13th and 36th largest construction companies).[8] other notable subsidiaries include samsung life insurance (the world's 14th largest life insurance company),[9] samsung everland (operator of everland resort, the oldest theme park in south korea)[10] and cheil worldwide (the world's 15th largest advertising agency, as measured by 2012 revenues). \""
      ]
     },
     "execution_count": 307,
     "metadata": {},
     "output_type": "execute_result"
    }
   ],
   "source": [
    "sw.lower()"
   ]
  },
  {
   "cell_type": "code",
   "execution_count": null,
   "id": "90534159-3694-4805-916f-8a8dc0adddef",
   "metadata": {},
   "outputs": [],
   "source": []
  }
 ],
 "metadata": {
  "kernelspec": {
   "display_name": "Python 3 (ipykernel)",
   "language": "python",
   "name": "python3"
  },
  "language_info": {
   "codemirror_mode": {
    "name": "ipython",
    "version": 3
   },
   "file_extension": ".py",
   "mimetype": "text/x-python",
   "name": "python",
   "nbconvert_exporter": "python",
   "pygments_lexer": "ipython3",
   "version": "3.12.4"
  }
 },
 "nbformat": 4,
 "nbformat_minor": 5
}
