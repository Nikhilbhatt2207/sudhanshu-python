{
 "cells": [
  {
   "cell_type": "code",
   "execution_count": 1,
   "id": "69baab19-463a-4ffb-8369-c8c95e402133",
   "metadata": {},
   "outputs": [],
   "source": [
    "sudh=10"
   ]
  },
  {
   "cell_type": "code",
   "execution_count": 3,
   "id": "15512fd9-e539-4d2b-84a7-41b3a465554b",
   "metadata": {},
   "outputs": [
    {
     "data": {
      "text/plain": [
       "8"
      ]
     },
     "execution_count": 3,
     "metadata": {},
     "output_type": "execute_result"
    }
   ],
   "source": [
    "sudh-2"
   ]
  },
  {
   "cell_type": "code",
   "execution_count": 5,
   "id": "15138993-f762-45e4-9135-e8edd7b79bf9",
   "metadata": {},
   "outputs": [
    {
     "data": {
      "text/plain": [
       "int"
      ]
     },
     "execution_count": 5,
     "metadata": {},
     "output_type": "execute_result"
    }
   ],
   "source": [
    "type(sudh)"
   ]
  },
  {
   "cell_type": "code",
   "execution_count": 7,
   "id": "9d2aa990-428e-40e9-a334-b9c7eb87de23",
   "metadata": {},
   "outputs": [],
   "source": [
    "a=34.09"
   ]
  },
  {
   "cell_type": "code",
   "execution_count": 9,
   "id": "cdc85b05-5660-420b-86ad-f1bf07b8627c",
   "metadata": {},
   "outputs": [
    {
     "data": {
      "text/plain": [
       "float"
      ]
     },
     "execution_count": 9,
     "metadata": {},
     "output_type": "execute_result"
    }
   ],
   "source": [
    "type(a)"
   ]
  },
  {
   "cell_type": "code",
   "execution_count": 11,
   "id": "aff06750-c0b0-4d09-8db8-745005c020a1",
   "metadata": {},
   "outputs": [],
   "source": [
    "b=\"this is my firts class of python and today's date is 14 may 2022 \""
   ]
  },
  {
   "cell_type": "code",
   "execution_count": 13,
   "id": "4d67b26b-0008-425f-955e-f78fb2e1d8af",
   "metadata": {},
   "outputs": [
    {
     "data": {
      "text/plain": [
       "\"this is my firts class of python and today's date is 14 may 2022 \""
      ]
     },
     "execution_count": 13,
     "metadata": {},
     "output_type": "execute_result"
    }
   ],
   "source": [
    "b"
   ]
  },
  {
   "cell_type": "code",
   "execution_count": 15,
   "id": "f8793b86-c207-4e5e-a294-6b55237c9844",
   "metadata": {},
   "outputs": [
    {
     "data": {
      "text/plain": [
       "str"
      ]
     },
     "execution_count": 15,
     "metadata": {},
     "output_type": "execute_result"
    }
   ],
   "source": [
    "type(b)"
   ]
  },
  {
   "cell_type": "code",
   "execution_count": 19,
   "id": "426f7ddb-8a57-4b34-9229-c48e6ce40382",
   "metadata": {},
   "outputs": [],
   "source": [
    "c='fsgshdkjdlklksdks'"
   ]
  },
  {
   "cell_type": "code",
   "execution_count": 21,
   "id": "d3b37fa1-410f-40c2-99c8-ee6c6f1dd493",
   "metadata": {},
   "outputs": [
    {
     "data": {
      "text/plain": [
       "'fsgshdkjdlklksdks'"
      ]
     },
     "execution_count": 21,
     "metadata": {},
     "output_type": "execute_result"
    }
   ],
   "source": [
    "c"
   ]
  },
  {
   "cell_type": "code",
   "execution_count": 23,
   "id": "b131b7ff-c59d-44a7-a740-c96fd60c45db",
   "metadata": {},
   "outputs": [
    {
     "data": {
      "text/plain": [
       "str"
      ]
     },
     "execution_count": 23,
     "metadata": {},
     "output_type": "execute_result"
    }
   ],
   "source": [
    "type(c)"
   ]
  },
  {
   "cell_type": "code",
   "execution_count": 25,
   "id": "5655d10e-82be-472e-b533-758c9f044c18",
   "metadata": {},
   "outputs": [],
   "source": [
    "d=True"
   ]
  },
  {
   "cell_type": "code",
   "execution_count": 27,
   "id": "afbaa62e-c2a1-4c62-a3b2-1d42d9f11eeb",
   "metadata": {},
   "outputs": [
    {
     "data": {
      "text/plain": [
       "bool"
      ]
     },
     "execution_count": 27,
     "metadata": {},
     "output_type": "execute_result"
    }
   ],
   "source": [
    "type(d)"
   ]
  },
  {
   "cell_type": "code",
   "execution_count": 29,
   "id": "addf164e-c3b5-4099-9210-a5de5474d4ba",
   "metadata": {},
   "outputs": [],
   "source": [
    "e=False "
   ]
  },
  {
   "cell_type": "code",
   "execution_count": 31,
   "id": "90b85500-824a-4331-b7f0-814f502eba19",
   "metadata": {},
   "outputs": [
    {
     "data": {
      "text/plain": [
       "bool"
      ]
     },
     "execution_count": 31,
     "metadata": {},
     "output_type": "execute_result"
    }
   ],
   "source": [
    "type(e)"
   ]
  },
  {
   "cell_type": "code",
   "execution_count": 33,
   "id": "f16068ef-60d7-4b0e-b7f2-048075ad359d",
   "metadata": {},
   "outputs": [
    {
     "data": {
      "text/plain": [
       "1"
      ]
     },
     "execution_count": 33,
     "metadata": {},
     "output_type": "execute_result"
    }
   ],
   "source": [
    "True-False"
   ]
  },
  {
   "cell_type": "code",
   "execution_count": 35,
   "id": "d19b9897-0743-4fbc-8d90-91d43f87bde5",
   "metadata": {},
   "outputs": [
    {
     "ename": "ZeroDivisionError",
     "evalue": "division by zero",
     "output_type": "error",
     "traceback": [
      "\u001b[1;31m---------------------------------------------------------------------------\u001b[0m",
      "\u001b[1;31mZeroDivisionError\u001b[0m                         Traceback (most recent call last)",
      "Cell \u001b[1;32mIn[35], line 1\u001b[0m\n\u001b[1;32m----> 1\u001b[0m \u001b[38;5;28;43;01mTrue\u001b[39;49;00m\u001b[38;5;241;43m/\u001b[39;49m\u001b[38;5;28;43;01mFalse\u001b[39;49;00m\n",
      "\u001b[1;31mZeroDivisionError\u001b[0m: division by zero"
     ]
    }
   ],
   "source": [
    "True/False"
   ]
  },
  {
   "cell_type": "code",
   "execution_count": 37,
   "id": "6706c131-2ede-4cba-95af-23703d55d205",
   "metadata": {},
   "outputs": [
    {
     "data": {
      "text/plain": [
       "0.0"
      ]
     },
     "execution_count": 37,
     "metadata": {},
     "output_type": "execute_result"
    }
   ],
   "source": [
    "False/True"
   ]
  },
  {
   "cell_type": "code",
   "execution_count": 39,
   "id": "b08b52ed-e261-44b2-9e2d-5ec7f424cb00",
   "metadata": {},
   "outputs": [
    {
     "data": {
      "text/plain": [
       "0"
      ]
     },
     "execution_count": 39,
     "metadata": {},
     "output_type": "execute_result"
    }
   ],
   "source": [
    "False*True"
   ]
  },
  {
   "cell_type": "code",
   "execution_count": 41,
   "id": "d286bb9e-2fb8-4835-85c9-e7b9d22d017b",
   "metadata": {},
   "outputs": [
    {
     "data": {
      "text/plain": [
       "-1"
      ]
     },
     "execution_count": 41,
     "metadata": {},
     "output_type": "execute_result"
    }
   ],
   "source": [
    "False-True"
   ]
  },
  {
   "cell_type": "code",
   "execution_count": 43,
   "id": "e2cdec2b-5213-4f2d-a907-1336eb3e5ce0",
   "metadata": {},
   "outputs": [],
   "source": [
    "n=5+7j"
   ]
  },
  {
   "cell_type": "code",
   "execution_count": 45,
   "id": "ff8fa567-bdc8-4db2-8151-2bccfd731a51",
   "metadata": {},
   "outputs": [
    {
     "data": {
      "text/plain": [
       "complex"
      ]
     },
     "execution_count": 45,
     "metadata": {},
     "output_type": "execute_result"
    }
   ],
   "source": [
    "type(n)"
   ]
  },
  {
   "cell_type": "code",
   "execution_count": 47,
   "id": "63ac3120-4c9f-475c-900f-f01f54a70d6f",
   "metadata": {},
   "outputs": [
    {
     "data": {
      "text/plain": [
       "(10+14j)"
      ]
     },
     "execution_count": 47,
     "metadata": {},
     "output_type": "execute_result"
    }
   ],
   "source": [
    "n+n"
   ]
  },
  {
   "cell_type": "code",
   "execution_count": 49,
   "id": "9cbdb37b-8c5b-4ec7-92b0-8e54594ef92c",
   "metadata": {},
   "outputs": [
    {
     "data": {
      "text/plain": [
       "0j"
      ]
     },
     "execution_count": 49,
     "metadata": {},
     "output_type": "execute_result"
    }
   ],
   "source": [
    "n-n"
   ]
  },
  {
   "cell_type": "code",
   "execution_count": 51,
   "id": "d953d3ff-f4f2-4743-b651-e84accdab303",
   "metadata": {},
   "outputs": [
    {
     "data": {
      "text/plain": [
       "(1+0j)"
      ]
     },
     "execution_count": 51,
     "metadata": {},
     "output_type": "execute_result"
    }
   ],
   "source": [
    "n/n"
   ]
  },
  {
   "cell_type": "code",
   "execution_count": 53,
   "id": "66da74bb-aefc-4a37-a6c0-cbfd5fedb970",
   "metadata": {},
   "outputs": [
    {
     "data": {
      "text/plain": [
       "7.0"
      ]
     },
     "execution_count": 53,
     "metadata": {},
     "output_type": "execute_result"
    }
   ],
   "source": [
    "n.imag"
   ]
  },
  {
   "cell_type": "code",
   "execution_count": 55,
   "id": "eae87577-7284-48e8-9041-88bd9493bdcb",
   "metadata": {},
   "outputs": [
    {
     "data": {
      "text/plain": [
       "5.0"
      ]
     },
     "execution_count": 55,
     "metadata": {},
     "output_type": "execute_result"
    }
   ],
   "source": [
    "n.real"
   ]
  },
  {
   "cell_type": "code",
   "execution_count": 57,
   "id": "7500146c-91df-4940-a60d-e40eeeb5eab6",
   "metadata": {},
   "outputs": [
    {
     "data": {
      "text/plain": [
       "<function complex.conjugate()>"
      ]
     },
     "execution_count": 57,
     "metadata": {},
     "output_type": "execute_result"
    }
   ],
   "source": [
    "n.conjugate"
   ]
  },
  {
   "cell_type": "code",
   "execution_count": 59,
   "id": "32af0eba-38f0-4830-8e44-668073efb1e5",
   "metadata": {},
   "outputs": [
    {
     "data": {
      "text/plain": [
       "\"this is my firts class of python and today's date is 14 may 2022 \""
      ]
     },
     "execution_count": 59,
     "metadata": {},
     "output_type": "execute_result"
    }
   ],
   "source": [
    "b"
   ]
  },
  {
   "cell_type": "code",
   "execution_count": 61,
   "id": "e3728062-2134-4d60-9558-7d6382da4e6b",
   "metadata": {},
   "outputs": [
    {
     "data": {
      "text/plain": [
       "str"
      ]
     },
     "execution_count": 61,
     "metadata": {},
     "output_type": "execute_result"
    }
   ],
   "source": [
    "type(b)"
   ]
  },
  {
   "cell_type": "code",
   "execution_count": 63,
   "id": "23787869-e188-4fdc-b817-c9fcf259f0c5",
   "metadata": {},
   "outputs": [
    {
     "data": {
      "text/plain": [
       "<function str.capitalize()>"
      ]
     },
     "execution_count": 63,
     "metadata": {},
     "output_type": "execute_result"
    }
   ],
   "source": [
    "b.capitalize"
   ]
  },
  {
   "cell_type": "code",
   "execution_count": 65,
   "id": "7eee5b08-b6af-4b07-9cb7-32f7348a33f7",
   "metadata": {},
   "outputs": [
    {
     "data": {
      "text/plain": [
       "<function str.casefold()>"
      ]
     },
     "execution_count": 65,
     "metadata": {},
     "output_type": "execute_result"
    }
   ],
   "source": [
    "b.casefold\n"
   ]
  },
  {
   "cell_type": "code",
   "execution_count": 67,
   "id": "1e71cca5-8ba6-4f72-aec1-1df19b1966bb",
   "metadata": {},
   "outputs": [
    {
     "data": {
      "text/plain": [
       "\"this is my firts class of python and today's date is 14 may 2022 \""
      ]
     },
     "execution_count": 67,
     "metadata": {},
     "output_type": "execute_result"
    }
   ],
   "source": [
    "b"
   ]
  },
  {
   "cell_type": "code",
   "execution_count": 69,
   "id": "b9aabf50-c38e-4e2a-93e6-3004f9a6ebd8",
   "metadata": {},
   "outputs": [
    {
     "data": {
      "text/plain": [
       "<function str.capitalize()>"
      ]
     },
     "execution_count": 69,
     "metadata": {},
     "output_type": "execute_result"
    }
   ],
   "source": [
    "b.capitalize"
   ]
  },
  {
   "cell_type": "code",
   "execution_count": 71,
   "id": "29b09edc-e8d8-42a0-9a78-cbf8d2240a0b",
   "metadata": {},
   "outputs": [
    {
     "data": {
      "text/plain": [
       "\"this is my firts class of python and today's date is 14 may 2022 \""
      ]
     },
     "execution_count": 71,
     "metadata": {},
     "output_type": "execute_result"
    }
   ],
   "source": [
    "b"
   ]
  },
  {
   "cell_type": "code",
   "execution_count": 77,
   "id": "c588553a-eee4-45ff-97ec-2f6799450fad",
   "metadata": {},
   "outputs": [],
   "source": [
    "l=[3,4,5,6, 3+4j, True, \"sudh\"]"
   ]
  },
  {
   "cell_type": "code",
   "execution_count": 79,
   "id": "22c3c9f1-bfab-4256-afdd-5388f901f90a",
   "metadata": {},
   "outputs": [
    {
     "data": {
      "text/plain": [
       "list"
      ]
     },
     "execution_count": 79,
     "metadata": {},
     "output_type": "execute_result"
    }
   ],
   "source": [
    "type(l)"
   ]
  },
  {
   "cell_type": "code",
   "execution_count": 81,
   "id": "146f6366-50dc-4356-81a7-69f2f0ed90ac",
   "metadata": {},
   "outputs": [
    {
     "data": {
      "text/plain": [
       "4"
      ]
     },
     "execution_count": 81,
     "metadata": {},
     "output_type": "execute_result"
    }
   ],
   "source": [
    "l[1]"
   ]
  },
  {
   "cell_type": "code",
   "execution_count": 83,
   "id": "dc72e07c-53ee-4095-a857-bdee1b818b09",
   "metadata": {},
   "outputs": [
    {
     "data": {
      "text/plain": [
       "5"
      ]
     },
     "execution_count": 83,
     "metadata": {},
     "output_type": "execute_result"
    }
   ],
   "source": [
    "l[2]"
   ]
  },
  {
   "cell_type": "code",
   "execution_count": 85,
   "id": "18effa05-7fd9-4f3b-8666-d4f212db9f8d",
   "metadata": {},
   "outputs": [
    {
     "data": {
      "text/plain": [
       "3"
      ]
     },
     "execution_count": 85,
     "metadata": {},
     "output_type": "execute_result"
    }
   ],
   "source": [
    "l[0]"
   ]
  },
  {
   "cell_type": "code",
   "execution_count": 89,
   "id": "28a6841f-7e46-4541-ac33-06876ded9c92",
   "metadata": {},
   "outputs": [
    {
     "data": {
      "text/plain": [
       "(3+4j)"
      ]
     },
     "execution_count": 89,
     "metadata": {},
     "output_type": "execute_result"
    }
   ],
   "source": [
    "l[-3]"
   ]
  },
  {
   "cell_type": "code",
   "execution_count": 93,
   "id": "075bbd53-062c-4b03-9476-57b2b6ebcebf",
   "metadata": {},
   "outputs": [],
   "source": [
    "t=(32,3.4434343445, \"sudh\",111)"
   ]
  },
  {
   "cell_type": "code",
   "execution_count": 96,
   "id": "af807c37-41b9-4ba1-b68c-3d01124efac7",
   "metadata": {},
   "outputs": [
    {
     "data": {
      "text/plain": [
       "tuple"
      ]
     },
     "execution_count": 96,
     "metadata": {},
     "output_type": "execute_result"
    }
   ],
   "source": [
    "type(t)"
   ]
  },
  {
   "cell_type": "code",
   "execution_count": 102,
   "id": "ffa86af8-fe95-4bc9-b73d-4eedc0b7fabc",
   "metadata": {},
   "outputs": [],
   "source": [
    "d={ 'a':'sudh','b':'kumar','c':123232}"
   ]
  },
  {
   "cell_type": "code",
   "execution_count": 104,
   "id": "e3bd7a1a-8e25-401c-a841-5c7c6d628744",
   "metadata": {},
   "outputs": [
    {
     "data": {
      "text/plain": [
       "{'a': 'sudh', 'b': 'kumar', 'c': 123232}"
      ]
     },
     "execution_count": 104,
     "metadata": {},
     "output_type": "execute_result"
    }
   ],
   "source": [
    "d"
   ]
  },
  {
   "cell_type": "code",
   "execution_count": 106,
   "id": "5eee7eca-e103-41d9-9e0b-ec66f4ef8382",
   "metadata": {},
   "outputs": [
    {
     "data": {
      "text/plain": [
       "dict"
      ]
     },
     "execution_count": 106,
     "metadata": {},
     "output_type": "execute_result"
    }
   ],
   "source": [
    "type(d)"
   ]
  },
  {
   "cell_type": "code",
   "execution_count": null,
   "id": "07f8996e-7e40-4625-a814-8906ad1d8a3c",
   "metadata": {},
   "outputs": [],
   "source": []
  }
 ],
 "metadata": {
  "kernelspec": {
   "display_name": "Python 3 (ipykernel)",
   "language": "python",
   "name": "python3"
  },
  "language_info": {
   "codemirror_mode": {
    "name": "ipython",
    "version": 3
   },
   "file_extension": ".py",
   "mimetype": "text/x-python",
   "name": "python",
   "nbconvert_exporter": "python",
   "pygments_lexer": "ipython3",
   "version": "3.12.4"
  }
 },
 "nbformat": 4,
 "nbformat_minor": 5
}
